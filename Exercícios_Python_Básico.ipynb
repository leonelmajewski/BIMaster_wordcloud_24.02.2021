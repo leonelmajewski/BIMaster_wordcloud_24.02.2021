{
  "nbformat": 4,
  "nbformat_minor": 0,
  "metadata": {
    "colab": {
      "name": "Exercícios - Python Básico.ipynb",
      "provenance": [],
      "authorship_tag": "ABX9TyMH76Kg8uW69hK4cOF3dwGd",
      "include_colab_link": true
    },
    "kernelspec": {
      "name": "python3",
      "display_name": "Python 3"
    }
  },
  "cells": [
    {
      "cell_type": "markdown",
      "metadata": {
        "id": "view-in-github",
        "colab_type": "text"
      },
      "source": [
        "<a href=\"https://colab.research.google.com/github/leonelmajewski/BIMaster_wordcloud_24.02.2021/blob/main/Exerc%C3%ADcios_Python_B%C3%A1sico.ipynb\" target=\"_parent\"><img src=\"https://colab.research.google.com/assets/colab-badge.svg\" alt=\"Open In Colab\"/></a>"
      ]
    },
    {
      "cell_type": "markdown",
      "metadata": {
        "id": "lftekQEDGU4d"
      },
      "source": [
        "# **ESTRUTURAS CONDICIONAIS**"
      ]
    },
    {
      "cell_type": "markdown",
      "metadata": {
        "id": "69oXjjF1Ocbf"
      },
      "source": [
        "**Exercício 1**\r\n",
        "\r\n",
        "\r\n",
        "---\r\n",
        "\r\n",
        "\r\n",
        "Faça um programa que faça 5 perguntas para uma pessoa sobre um crime. As perguntas são:\r\n",
        "\r\n",
        ">a. \"Telefonou para a vítima?\"\r\n",
        "\r\n",
        ">b. \"Esteve no local do crime?\"\r\n",
        "\r\n",
        ">c. \"Mora perto da vítima?\"\r\n",
        "\r\n",
        ">d. \"Devia para a vítima?\"\r\n",
        "\r\n",
        ">e. \"Já trabalhou com a vítima?\"\r\n",
        "\r\n",
        "O programa deve no final emitir uma classificação sobre a participação da pessoa no crime.\r\n",
        "\r\n",
        "Se a pessoa responder positivamente a 2 questões ela deve ser classificada como \"Suspeita\", entre 3 e 4 como \"Cúmplice\" e 5 como \"Assassino\".\r\n",
        "\r\n",
        "Caso contrário, ele será classificado como \"Inocente\"."
      ]
    },
    {
      "cell_type": "code",
      "metadata": {
        "colab": {
          "base_uri": "https://localhost:8080/",
          "height": 527
        },
        "id": "b_N5B8qCPVPU",
        "outputId": "010b8782-6b39-4146-a0bc-3aba4996b703"
      },
      "source": [
        "resp_1 = int(input(\"Telefonou para a vítima (1 - Sim / 0 - Não)? \"))\r\n",
        "resp_2 = int(input(\"Esteve no local do crime (1 - Sim / 0 - Não)? \"))\r\n",
        "resp_3 = int(input(\"Mora perto da vítima (1 - Sim / 0 - Não)? \"))\r\n",
        "resp_4 = int(input(\"Devia para a vítima (1 - Sim / 0 - Não)? \"))\r\n",
        "resp_5 = int(input(\"Já trabalhou com a vítima (1 - Sim / 0 - Não)? \"))\r\n",
        "soma_resp = resp_1 + resp_2 + resp_3 + resp_4 + resp_5\r\n",
        "\r\n",
        "if (soma_resp < 2):\r\n",
        "  print(\"Inocente\")\r\n",
        "elif (soma_resp == 2):\r\n",
        "  print(\"Suspeito\")\r\n",
        "elif (3 <= soma_resp <= 4):\r\n",
        "  print(\"Cúmplice\")\r\n",
        "else:\r\n",
        "  print(\"Assassino\")"
      ],
      "execution_count": 1,
      "outputs": [
        {
          "output_type": "error",
          "ename": "KeyboardInterrupt",
          "evalue": "ignored",
          "traceback": [
            "\u001b[0;31m---------------------------------------------------------------------------\u001b[0m",
            "\u001b[0;31mKeyboardInterrupt\u001b[0m                         Traceback (most recent call last)",
            "\u001b[0;32m/usr/local/lib/python3.7/dist-packages/ipykernel/kernelbase.py\u001b[0m in \u001b[0;36m_input_request\u001b[0;34m(self, prompt, ident, parent, password)\u001b[0m\n\u001b[1;32m    728\u001b[0m             \u001b[0;32mtry\u001b[0m\u001b[0;34m:\u001b[0m\u001b[0;34m\u001b[0m\u001b[0;34m\u001b[0m\u001b[0m\n\u001b[0;32m--> 729\u001b[0;31m                 \u001b[0mident\u001b[0m\u001b[0;34m,\u001b[0m \u001b[0mreply\u001b[0m \u001b[0;34m=\u001b[0m \u001b[0mself\u001b[0m\u001b[0;34m.\u001b[0m\u001b[0msession\u001b[0m\u001b[0;34m.\u001b[0m\u001b[0mrecv\u001b[0m\u001b[0;34m(\u001b[0m\u001b[0mself\u001b[0m\u001b[0;34m.\u001b[0m\u001b[0mstdin_socket\u001b[0m\u001b[0;34m,\u001b[0m \u001b[0;36m0\u001b[0m\u001b[0;34m)\u001b[0m\u001b[0;34m\u001b[0m\u001b[0;34m\u001b[0m\u001b[0m\n\u001b[0m\u001b[1;32m    730\u001b[0m             \u001b[0;32mexcept\u001b[0m \u001b[0mException\u001b[0m\u001b[0;34m:\u001b[0m\u001b[0;34m\u001b[0m\u001b[0;34m\u001b[0m\u001b[0m\n",
            "\u001b[0;32m/usr/local/lib/python3.7/dist-packages/jupyter_client/session.py\u001b[0m in \u001b[0;36mrecv\u001b[0;34m(self, socket, mode, content, copy)\u001b[0m\n\u001b[1;32m    802\u001b[0m         \u001b[0;32mtry\u001b[0m\u001b[0;34m:\u001b[0m\u001b[0;34m\u001b[0m\u001b[0;34m\u001b[0m\u001b[0m\n\u001b[0;32m--> 803\u001b[0;31m             \u001b[0mmsg_list\u001b[0m \u001b[0;34m=\u001b[0m \u001b[0msocket\u001b[0m\u001b[0;34m.\u001b[0m\u001b[0mrecv_multipart\u001b[0m\u001b[0;34m(\u001b[0m\u001b[0mmode\u001b[0m\u001b[0;34m,\u001b[0m \u001b[0mcopy\u001b[0m\u001b[0;34m=\u001b[0m\u001b[0mcopy\u001b[0m\u001b[0;34m)\u001b[0m\u001b[0;34m\u001b[0m\u001b[0;34m\u001b[0m\u001b[0m\n\u001b[0m\u001b[1;32m    804\u001b[0m         \u001b[0;32mexcept\u001b[0m \u001b[0mzmq\u001b[0m\u001b[0;34m.\u001b[0m\u001b[0mZMQError\u001b[0m \u001b[0;32mas\u001b[0m \u001b[0me\u001b[0m\u001b[0;34m:\u001b[0m\u001b[0;34m\u001b[0m\u001b[0;34m\u001b[0m\u001b[0m\n",
            "\u001b[0;32m/usr/local/lib/python3.7/dist-packages/zmq/sugar/socket.py\u001b[0m in \u001b[0;36mrecv_multipart\u001b[0;34m(self, flags, copy, track)\u001b[0m\n\u001b[1;32m    582\u001b[0m         \"\"\"\n\u001b[0;32m--> 583\u001b[0;31m         \u001b[0mparts\u001b[0m \u001b[0;34m=\u001b[0m \u001b[0;34m[\u001b[0m\u001b[0mself\u001b[0m\u001b[0;34m.\u001b[0m\u001b[0mrecv\u001b[0m\u001b[0;34m(\u001b[0m\u001b[0mflags\u001b[0m\u001b[0;34m,\u001b[0m \u001b[0mcopy\u001b[0m\u001b[0;34m=\u001b[0m\u001b[0mcopy\u001b[0m\u001b[0;34m,\u001b[0m \u001b[0mtrack\u001b[0m\u001b[0;34m=\u001b[0m\u001b[0mtrack\u001b[0m\u001b[0;34m)\u001b[0m\u001b[0;34m]\u001b[0m\u001b[0;34m\u001b[0m\u001b[0;34m\u001b[0m\u001b[0m\n\u001b[0m\u001b[1;32m    584\u001b[0m         \u001b[0;31m# have first part already, only loop while more to receive\u001b[0m\u001b[0;34m\u001b[0m\u001b[0;34m\u001b[0m\u001b[0;34m\u001b[0m\u001b[0m\n",
            "\u001b[0;32mzmq/backend/cython/socket.pyx\u001b[0m in \u001b[0;36mzmq.backend.cython.socket.Socket.recv\u001b[0;34m()\u001b[0m\n",
            "\u001b[0;32mzmq/backend/cython/socket.pyx\u001b[0m in \u001b[0;36mzmq.backend.cython.socket.Socket.recv\u001b[0;34m()\u001b[0m\n",
            "\u001b[0;32mzmq/backend/cython/socket.pyx\u001b[0m in \u001b[0;36mzmq.backend.cython.socket._recv_copy\u001b[0;34m()\u001b[0m\n",
            "\u001b[0;32m/usr/local/lib/python3.7/dist-packages/zmq/backend/cython/checkrc.pxd\u001b[0m in \u001b[0;36mzmq.backend.cython.checkrc._check_rc\u001b[0;34m()\u001b[0m\n",
            "\u001b[0;31mKeyboardInterrupt\u001b[0m: ",
            "\nDuring handling of the above exception, another exception occurred:\n",
            "\u001b[0;31mKeyboardInterrupt\u001b[0m                         Traceback (most recent call last)",
            "\u001b[0;32m<ipython-input-1-5e49a75d1b40>\u001b[0m in \u001b[0;36m<module>\u001b[0;34m()\u001b[0m\n\u001b[0;32m----> 1\u001b[0;31m \u001b[0mresp_1\u001b[0m \u001b[0;34m=\u001b[0m \u001b[0mint\u001b[0m\u001b[0;34m(\u001b[0m\u001b[0minput\u001b[0m\u001b[0;34m(\u001b[0m\u001b[0;34m\"Telefonou para a vítima (1 - Sim / 0 - Não)? \"\u001b[0m\u001b[0;34m)\u001b[0m\u001b[0;34m)\u001b[0m\u001b[0;34m\u001b[0m\u001b[0;34m\u001b[0m\u001b[0m\n\u001b[0m\u001b[1;32m      2\u001b[0m \u001b[0mresp_2\u001b[0m \u001b[0;34m=\u001b[0m \u001b[0mint\u001b[0m\u001b[0;34m(\u001b[0m\u001b[0minput\u001b[0m\u001b[0;34m(\u001b[0m\u001b[0;34m\"Esteve no local do crime (1 - Sim / 0 - Não)? \"\u001b[0m\u001b[0;34m)\u001b[0m\u001b[0;34m)\u001b[0m\u001b[0;34m\u001b[0m\u001b[0;34m\u001b[0m\u001b[0m\n\u001b[1;32m      3\u001b[0m \u001b[0mresp_3\u001b[0m \u001b[0;34m=\u001b[0m \u001b[0mint\u001b[0m\u001b[0;34m(\u001b[0m\u001b[0minput\u001b[0m\u001b[0;34m(\u001b[0m\u001b[0;34m\"Mora perto da vítima (1 - Sim / 0 - Não)? \"\u001b[0m\u001b[0;34m)\u001b[0m\u001b[0;34m)\u001b[0m\u001b[0;34m\u001b[0m\u001b[0;34m\u001b[0m\u001b[0m\n\u001b[1;32m      4\u001b[0m \u001b[0mresp_4\u001b[0m \u001b[0;34m=\u001b[0m \u001b[0mint\u001b[0m\u001b[0;34m(\u001b[0m\u001b[0minput\u001b[0m\u001b[0;34m(\u001b[0m\u001b[0;34m\"Devia para a vítima (1 - Sim / 0 - Não)? \"\u001b[0m\u001b[0;34m)\u001b[0m\u001b[0;34m)\u001b[0m\u001b[0;34m\u001b[0m\u001b[0;34m\u001b[0m\u001b[0m\n\u001b[1;32m      5\u001b[0m \u001b[0mresp_5\u001b[0m \u001b[0;34m=\u001b[0m \u001b[0mint\u001b[0m\u001b[0;34m(\u001b[0m\u001b[0minput\u001b[0m\u001b[0;34m(\u001b[0m\u001b[0;34m\"Já trabalhou com a vítima (1 - Sim / 0 - Não)? \"\u001b[0m\u001b[0;34m)\u001b[0m\u001b[0;34m)\u001b[0m\u001b[0;34m\u001b[0m\u001b[0;34m\u001b[0m\u001b[0m\n",
            "\u001b[0;32m/usr/local/lib/python3.7/dist-packages/ipykernel/kernelbase.py\u001b[0m in \u001b[0;36mraw_input\u001b[0;34m(self, prompt)\u001b[0m\n\u001b[1;32m    702\u001b[0m             \u001b[0mself\u001b[0m\u001b[0;34m.\u001b[0m\u001b[0m_parent_ident\u001b[0m\u001b[0;34m,\u001b[0m\u001b[0;34m\u001b[0m\u001b[0;34m\u001b[0m\u001b[0m\n\u001b[1;32m    703\u001b[0m             \u001b[0mself\u001b[0m\u001b[0;34m.\u001b[0m\u001b[0m_parent_header\u001b[0m\u001b[0;34m,\u001b[0m\u001b[0;34m\u001b[0m\u001b[0;34m\u001b[0m\u001b[0m\n\u001b[0;32m--> 704\u001b[0;31m             \u001b[0mpassword\u001b[0m\u001b[0;34m=\u001b[0m\u001b[0;32mFalse\u001b[0m\u001b[0;34m,\u001b[0m\u001b[0;34m\u001b[0m\u001b[0;34m\u001b[0m\u001b[0m\n\u001b[0m\u001b[1;32m    705\u001b[0m         )\n\u001b[1;32m    706\u001b[0m \u001b[0;34m\u001b[0m\u001b[0m\n",
            "\u001b[0;32m/usr/local/lib/python3.7/dist-packages/ipykernel/kernelbase.py\u001b[0m in \u001b[0;36m_input_request\u001b[0;34m(self, prompt, ident, parent, password)\u001b[0m\n\u001b[1;32m    732\u001b[0m             \u001b[0;32mexcept\u001b[0m \u001b[0mKeyboardInterrupt\u001b[0m\u001b[0;34m:\u001b[0m\u001b[0;34m\u001b[0m\u001b[0;34m\u001b[0m\u001b[0m\n\u001b[1;32m    733\u001b[0m                 \u001b[0;31m# re-raise KeyboardInterrupt, to truncate traceback\u001b[0m\u001b[0;34m\u001b[0m\u001b[0;34m\u001b[0m\u001b[0;34m\u001b[0m\u001b[0m\n\u001b[0;32m--> 734\u001b[0;31m                 \u001b[0;32mraise\u001b[0m \u001b[0mKeyboardInterrupt\u001b[0m\u001b[0;34m\u001b[0m\u001b[0;34m\u001b[0m\u001b[0m\n\u001b[0m\u001b[1;32m    735\u001b[0m             \u001b[0;32melse\u001b[0m\u001b[0;34m:\u001b[0m\u001b[0;34m\u001b[0m\u001b[0;34m\u001b[0m\u001b[0m\n\u001b[1;32m    736\u001b[0m                 \u001b[0;32mbreak\u001b[0m\u001b[0;34m\u001b[0m\u001b[0;34m\u001b[0m\u001b[0m\n",
            "\u001b[0;31mKeyboardInterrupt\u001b[0m: "
          ]
        }
      ]
    },
    {
      "cell_type": "markdown",
      "metadata": {
        "id": "WTqGKGmfR1RD"
      },
      "source": [
        "**Exercício 2**\r\n",
        "\r\n",
        "\r\n",
        "---\r\n",
        "\r\n",
        "\r\n",
        "Um posto está vendendo combustíveis com a seguinte tabela de descontos:\r\n",
        "\r\n",
        "*   Álcool:\r\n",
        ">*   Até 20 litros, desconto de 3% por litro\r\n",
        ">*   Acima de 20 litros, desconto de 5% por litro\r\n",
        "*   Gasolina:\r\n",
        ">*   Até 20 litros, desconto de 4% por litro\r\n",
        ">*   Acima de 20 litros, desconto de 6% por litro\r\n",
        "\r\n",
        "\r\n",
        "Escreva um algoritmo que leia o número de litros vendidos, o tipo de combustível (codificado da seguinte forma: A - álcool, G - Gasolina), calcule e imprima o valor a ser pago pelo cliente sabendo-se que o preço do litro da gasolina é R$ 2,50 e o preço do álcool é R$ 1,90."
      ]
    },
    {
      "cell_type": "code",
      "metadata": {
        "id": "n6rvc7BHRWqz"
      },
      "source": [
        "comb = input(\"Informe o combustível (A - Álcool / G - Gasolina):\").upper()\r\n",
        "qtde = float(input(\"Informe a quantidade de abastecimento:\"))\r\n",
        "alcool = float (1.90 * qtde)\r\n",
        "gasolina = float (2.50 * qtde)\r\n",
        "if (comb == \"A\") and (qtde <= 20):\r\n",
        "    valor = alcool * 0.97\r\n",
        "    print (\"O valor a ser pago é\", valor )\r\n",
        "elif (comb == \"A\") and (qtde > 20):\r\n",
        "    valor = alcool * 0.95\r\n",
        "    print (\"O valor a ser pago é\", valor )\r\n",
        "elif (comb == \"G\") and (qtde <= 20):\r\n",
        "    valor = gasolina * 0.96\r\n",
        "    print (\"O valor a ser pago é\", valor )\r\n",
        "else:\r\n",
        "    valor = gasolina * 0.94\r\n",
        "    print (\"O valor a ser pago é\", valor )"
      ],
      "execution_count": null,
      "outputs": []
    },
    {
      "cell_type": "markdown",
      "metadata": {
        "id": "LG_VqvRmBLJo"
      },
      "source": [
        "**Exercício 3**\r\n",
        "\r\n",
        "---\r\n",
        "\r\n",
        "Faça um programa que calcule as raízes de uma equação do segundo grau, na forma ax2 + bx + c.\r\n",
        "\r\n",
        "O programa deverá pedir os valores de a, b e c e fazer as consistências, informando ao usuário nas seguintes situações:\r\n",
        "\r\n",
        ">a. Se o usuário informar o valor de A igual a zero, a equação não é do segundo grau e o programa não deve fazer pedir os demais valores, sendo encerrado;\r\n",
        "\r\n",
        ">b. Se o delta calculado for negativo, a equação não possui raizes reais. Informe ao usuário e encerre o programa;\r\n",
        "\r\n",
        ">c. Se o delta calculado for igual a zero a equação possui apenas uma raiz real; informe-a ao usuário;\r\n",
        "\r\n",
        ">d. Se o delta for positivo, a equação possui duas raiz reais; informe-as ao usuário;"
      ]
    },
    {
      "cell_type": "code",
      "metadata": {
        "id": "HBUv4G-8BuP3"
      },
      "source": [
        "import math\r\n",
        "a = float(input(\"Digite o valor de a: \"))\r\n",
        "if a == 0:\r\n",
        "  print (\"A execução será interrompida.\")\r\n",
        "  exit()\r\n",
        "else:\r\n",
        "  b = float(input(\"Digite o valor de b: \"))\r\n",
        "  c = float(input(\"Digite o valor de c: \"))\r\n",
        "  delta = b ** 2 - 4 * a * c\r\n",
        "  if delta == 0:\r\n",
        "    raiz1 = (-b + math.sqrt(delta )) / (2 * a)\r\n",
        "    print(\"A equação possui uma única raiz real: \", raiz1)\r\n",
        "  else:\r\n",
        "    if delta < 0:\r\n",
        "      print(\"Ess equação não possui raízes reais.\")\r\n",
        "    else:\r\n",
        "      raiz1 = (-b + math.sqrt(delta )) / (2 * a)\r\n",
        "      raiz2 = (-b - math.sqrt(delta )) / (2 * a)\r\n",
        "      print(\"A primeira raiz é: \", raiz1)\r\n",
        "      print(\"A segunda raiz é: \", raiz2)"
      ],
      "execution_count": null,
      "outputs": []
    },
    {
      "cell_type": "markdown",
      "metadata": {
        "id": "gGYimyjrGMVi"
      },
      "source": [
        "# **ESTRUTURAS DE REPETIÇÃO**"
      ]
    },
    {
      "cell_type": "markdown",
      "metadata": {
        "id": "JNaskccEGj1a"
      },
      "source": [
        "**Exercício 1**\r\n",
        "\r\n",
        "---\r\n",
        "\r\n",
        "Faça um programa que imprima na tela os números de 1 a 20, um abaixo do outro.\r\n",
        "\r\n",
        "Depois modifique o programa para que ele mostre os números um ao lado do outro."
      ]
    },
    {
      "cell_type": "code",
      "metadata": {
        "colab": {
          "base_uri": "https://localhost:8080/"
        },
        "id": "nMTp6rjbG39m",
        "outputId": "a4681b4a-933d-4478-e1be-eecee18ad0af"
      },
      "source": [
        "a = 0\r\n",
        "for a in range (0,20):\r\n",
        "  print(a+1)\r\n",
        "  a = a + 1"
      ],
      "execution_count": 9,
      "outputs": [
        {
          "output_type": "stream",
          "text": [
            "1\n",
            "2\n",
            "3\n",
            "4\n",
            "5\n",
            "6\n",
            "7\n",
            "8\n",
            "9\n",
            "10\n",
            "11\n",
            "12\n",
            "13\n",
            "14\n",
            "15\n",
            "16\n",
            "17\n",
            "18\n",
            "19\n",
            "20\n"
          ],
          "name": "stdout"
        }
      ]
    },
    {
      "cell_type": "code",
      "metadata": {
        "colab": {
          "base_uri": "https://localhost:8080/"
        },
        "id": "2xOM2PujIPgg",
        "outputId": "fe71a4aa-ca29-45a5-b085-7043d9970e8e"
      },
      "source": [
        "print(list(range(1,21)))"
      ],
      "execution_count": 8,
      "outputs": [
        {
          "output_type": "stream",
          "text": [
            "[1, 2, 3, 4, 5, 6, 7, 8, 9, 10, 11, 12, 13, 14, 15, 16, 17, 18, 19, 20]\n"
          ],
          "name": "stdout"
        }
      ]
    },
    {
      "cell_type": "markdown",
      "metadata": {
        "id": "XojGgYJkImXE"
      },
      "source": [
        "**Exercício 2**\r\n",
        "\r\n",
        "---\r\n",
        "\r\n",
        "Faça um programa que imprima na tela apenas os números ímpares entre 1 e um valor n informado pelo usuário."
      ]
    },
    {
      "cell_type": "code",
      "metadata": {
        "colab": {
          "base_uri": "https://localhost:8080/"
        },
        "id": "pAxo7FB_Iqog",
        "outputId": "1a69b36c-d2fc-48e2-913c-562ccc07b205"
      },
      "source": [
        "ultimo = int(input(\"Informe o último número: \"))\r\n",
        "impares = list (range (1, ultimo, 2))\r\n",
        "print (impares)"
      ],
      "execution_count": 12,
      "outputs": [
        {
          "output_type": "stream",
          "text": [
            "Informe o último número: 30\n",
            "[1, 3, 5, 7, 9, 11, 13, 15, 17, 19, 21, 23, 25, 27, 29]\n"
          ],
          "name": "stdout"
        }
      ]
    },
    {
      "cell_type": "markdown",
      "metadata": {
        "id": "-mFk-gIPK9wY"
      },
      "source": [
        "**Exercício 3**\r\n",
        "\r\n",
        "---\r\n",
        "\r\n",
        "Faça um programa que receba dois números quaisquer (inteiros ou reais) e imprima na tela os números inteiros que estão no intervalo compreendido por eles."
      ]
    },
    {
      "cell_type": "code",
      "metadata": {
        "colab": {
          "base_uri": "https://localhost:8080/"
        },
        "id": "SP_x1ryxLHQg",
        "outputId": "48a33362-f757-4543-fb62-ac001c72788e"
      },
      "source": [
        "primeiro = int(input(\"Informe o primeiro número: \"))\r\n",
        "ultimo = int (input(\"Informe o ultimo número: \"))\r\n",
        "lista = list (range(primeiro , (ultimo+1)))\r\n",
        "print(lista)"
      ],
      "execution_count": 15,
      "outputs": [
        {
          "output_type": "stream",
          "text": [
            "Informe o primeiro número: 10\n",
            "Informe o ultimo número: 20\n",
            "[10, 11, 12, 13, 14, 15, 16, 17, 18, 19, 20]\n"
          ],
          "name": "stdout"
        }
      ]
    },
    {
      "cell_type": "markdown",
      "metadata": {
        "id": "nGIMWcmyMPeM"
      },
      "source": [
        "**Exercício 4**\r\n",
        "\r\n",
        "---\r\n",
        "\r\n",
        "Faça um programa que leia uma quantidade indeterminada de números positivos e conte quantos deles estão nos seguintes intervalos: [0-25], [26-50], [51-75] e [76-100].\r\n",
        "\r\n",
        "A entrada de dados deverá terminar quando for lido um número negativo."
      ]
    },
    {
      "cell_type": "code",
      "metadata": {
        "id": "A9mZDop_MOab"
      },
      "source": [
        ""
      ],
      "execution_count": null,
      "outputs": []
    },
    {
      "cell_type": "markdown",
      "metadata": {
        "id": "agKyrCaFM8uY"
      },
      "source": [
        "**Exercício 6**\r\n",
        "\r\n",
        "---\r\n",
        "\r\n",
        "Desenvolver um programa para verificar a nota do aluno em uma prova com 10 questões, o programa deve perguntar ao aluno a resposta de cada questão e ao final comparar com o gabarito da prova e assim calcular o total de acertos e a nota (atribuir 1 ponto por resposta certa).\r\n",
        "\r\n",
        "Após cada aluno utilizar o sistema deve ser feita uma pergunta se outro aluno vai utilizar o sistema.\r\n",
        "\r\n",
        "Após todos os alunos terem respondido informar:\r\n",
        "\r\n",
        ">a. Maior e Menor Acerto;\r\n",
        "\r\n",
        ">b. Total de Alunos que utilizaram o sistema;\r\n",
        "\r\n",
        ">c. A Média das Notas da Turma."
      ]
    },
    {
      "cell_type": "code",
      "metadata": {
        "id": "yX4lHz7tNNN5"
      },
      "source": [
        ""
      ],
      "execution_count": null,
      "outputs": []
    },
    {
      "cell_type": "markdown",
      "metadata": {
        "id": "-Jx4ii6aOdFg"
      },
      "source": [
        "# **DESAFIO**"
      ]
    },
    {
      "cell_type": "markdown",
      "metadata": {
        "id": "DCjWXwK1OiPr"
      },
      "source": [
        "Foi realizada uma pesquisa com X diferentes medicamentos para emagrecer durante 12 meses. Cada medicamento foi administrado a um grupo com originalmente 15 indivíduos.\r\n",
        "\r\n",
        "Mas nem todos os indivíduos chegaram ao final da pesquisa. Os indivíduos foram pesados no início da pesquisa (peso inicial ou peso1), com 6 meses (peso intermediário ou peso2) e ao final dos 12 meses (peso final ou peso3).\r\n",
        "\r\n",
        "Cada indivíduo também informou ao final o principal efeito colateral sentido: náusea, dor de cabeça, diarreia, visão turva, nenhum, etc.\r\n",
        "\r\n",
        "O resultado dessa pesquisa, contendo apenas os indivíduos que chegaram ao final, encontra-se em um arquivo texto de nome **emagrecimento.txt** com as seguintes informações de um indivíduo em cada linha do arquivo:\r\n",
        "\r\n",
        "*   número_de_identificação\r\n",
        "*   sexo\r\n",
        "*   idade\r\n",
        "*   medicamento\r\n",
        "*   peso1\r\n",
        "*   peso2\r\n",
        "*   peso3\r\n",
        "*   principal_efeito_colateral"
      ]
    },
    {
      "cell_type": "code",
      "metadata": {
        "id": "BsoZx9KHPO8O"
      },
      "source": [
        ""
      ],
      "execution_count": null,
      "outputs": []
    }
  ]
}